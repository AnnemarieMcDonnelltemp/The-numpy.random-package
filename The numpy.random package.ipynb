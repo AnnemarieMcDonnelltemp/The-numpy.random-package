{
 "cells": [
  {
   "cell_type": "markdown",
   "metadata": {},
   "source": [
    "# The numpy.random Package."
   ]
  },
  {
   "cell_type": "markdown",
   "metadata": {},
   "source": [
    "# The History.\n",
    "\n",
    "NumPy was created in 2005, as an open-source software by Travis Oliphant with other contributors. It drew on the previous work of Jim Hugunin amongst others, who created Numeric.\n",
    "Oliphant incorporated and modified features from Numarray into Numeric to create NumPy, a Python programming language which supports multi-dimensional arrays and matrices and a collection of mathematical functions to operate the arrays.\n",
    "One of these functions is NumPy.random. For the purpose of this assignment NumPy.random will be discussed."
   ]
  },
  {
   "cell_type": "markdown",
   "metadata": {
    "collapsed": true
   },
   "source": [
    "# NumPy.random.\n",
    "\n",
    "NumPy.random function is to generate random numbers. Using the algorythm, Mersenne Twister, which generates Pseudorandom nubers.Random number generating (RNG) is a string of numbers drawn from a probability distribution, random numbers between 0 and 1. they include the 0 however do not include the whole integer 1.The numbers are actually pseudorandom as they depend on the input numbers."
   ]
  },
  {
   "cell_type": "code",
   "execution_count": 11,
   "metadata": {
    "collapsed": true
   },
   "outputs": [],
   "source": [
    "#lets start by importing NumPy.\n",
    "import numpy as np"
   ]
  },
  {
   "cell_type": "code",
   "execution_count": 32,
   "metadata": {},
   "outputs": [
    {
     "data": {
      "text/plain": [
       "array([ 0.31183316,  0.66591653,  0.87146794,  0.68455074,  0.30725397,\n",
       "        0.73380684,  0.94397757,  0.27273925,  0.58300281,  0.22285532,\n",
       "        0.7937629 ,  0.9262927 ,  0.79965195,  0.26272855,  0.55352487,\n",
       "        0.91988443,  0.66223774,  0.8932706 ,  0.34206147,  0.98130177,\n",
       "        0.71686737,  0.41238216,  0.11946543,  0.61377922,  0.27039167,\n",
       "        0.71119721,  0.93869499,  0.4124558 ,  0.25573192,  0.1831858 ,\n",
       "        0.13496683,  0.77407741,  0.09130431,  0.7833578 ,  0.44604532,\n",
       "        0.92216531,  0.82432563,  0.28175363,  0.85516503,  0.97498786,\n",
       "        0.77243433,  0.08988548,  0.43775061,  0.58524177,  0.48643965,\n",
       "        0.77798797,  0.94918039,  0.55079421,  0.73495286,  0.90892308,\n",
       "        0.9076566 ,  0.90660907,  0.02020501,  0.88423949,  0.81458268,\n",
       "        0.85597344,  0.17123132,  0.06591992,  0.17110229,  0.18135456,\n",
       "        0.18924227,  0.01787012,  0.8011468 ,  0.0403335 ,  0.3519535 ,\n",
       "        0.47079349,  0.57558221,  0.05991899,  0.70874889,  0.7146335 ,\n",
       "        0.6861193 ,  0.5745596 ,  0.77676462,  0.13935397,  0.71231068,\n",
       "        0.25061285,  0.22336299,  0.72005179,  0.67411308,  0.70186254,\n",
       "        0.04562719,  0.80789244,  0.89663717,  0.95258891,  0.84390243,\n",
       "        0.58367617,  0.20501888,  0.72518758,  0.67529982,  0.90029129,\n",
       "        0.87193925,  0.08047947,  0.71621258,  0.08329805,  0.08477763,\n",
       "        0.45445187,  0.55481426,  0.52473907,  0.66306559,  0.90718062])"
      ]
     },
     "execution_count": 32,
     "metadata": {},
     "output_type": "execute_result"
    }
   ],
   "source": [
    "np.random.random (100) #this returs a single random array of 5 numbers between 0 and up to, but not including 1."
   ]
  },
  {
   "cell_type": "code",
   "execution_count": 19,
   "metadata": {
    "collapsed": true
   },
   "outputs": [],
   "source": [
    "import matplotlib.pyplot as plt #to be able to vie in pictural form.\n"
   ]
  },
  {
   "cell_type": "code",
   "execution_count": 33,
   "metadata": {},
   "outputs": [
    {
     "data": {
      "image/png": "[encoded data removed]",
      "text/plain": [
       "<matplotlib.figure.Figure at 0x1b97a341748>"
      ]
     },
     "metadata": {},
     "output_type": "display_data"
    }
   ],
   "source": [
    "#to plot in pictorial form \n",
    "x=np.random.random(100)\n",
    "plt.hist(x)\n",
    "plt.show()"
   ]
  },
  {
   "cell_type": "code",
   "execution_count": 1,
   "metadata": {},
   "outputs": [
    {
     "ename": "NameError",
     "evalue": "name 't' is not defined",
     "output_type": "error",
     "traceback": [
      "\u001b[1;31m---------------------------------------------------------------------------\u001b[0m",
      "\u001b[1;31mNameError\u001b[0m                                 Traceback (most recent call last)",
      "\u001b[1;32m<ipython-input-1-b7269fa25085>\u001b[0m in \u001b[0;36m<module>\u001b[1;34m()\u001b[0m\n\u001b[1;32m----> 1\u001b[1;33m \u001b[0mt\u001b[0m\u001b[1;33m\u001b[0m\u001b[0m\n\u001b[0m",
      "\u001b[1;31mNameError\u001b[0m: name 't' is not defined"
     ]
    }
   ],
   "source": [
    "t"
   ]
  },
  {
   "cell_type": "code",
   "execution_count": 1,
   "metadata": {},
   "outputs": [
    {
     "ename": "NameError",
     "evalue": "name 'np' is not defined",
     "output_type": "error",
     "traceback": [
      "\u001b[1;31m---------------------------------------------------------------------------\u001b[0m",
      "\u001b[1;31mNameError\u001b[0m                                 Traceback (most recent call last)",
      "\u001b[1;32m<ipython-input-1-8e0b00b00759>\u001b[0m in \u001b[0;36m<module>\u001b[1;34m()\u001b[0m\n\u001b[1;32m----> 1\u001b[1;33m \u001b[0mnp\u001b[0m\u001b[1;33m.\u001b[0m\u001b[0mrandom\u001b[0m\u001b[1;33m.\u001b[0m\u001b[0mrand\u001b[0m\u001b[1;33m(\u001b[0m\u001b[1;36m3\u001b[0m\u001b[1;33m,\u001b[0m\u001b[1;36m2\u001b[0m\u001b[1;33m)\u001b[0m\u001b[1;33m\u001b[0m\u001b[0m\n\u001b[0m\u001b[0;32m      2\u001b[0m array([[ 0.14022471,  0.96360618],  #random\n\u001b[0;32m      3\u001b[0m        \u001b[1;33m[\u001b[0m \u001b[1;36m0.37601032\u001b[0m\u001b[1;33m,\u001b[0m  \u001b[1;36m0.25528411\u001b[0m\u001b[1;33m]\u001b[0m\u001b[1;33m,\u001b[0m  \u001b[1;31m#random\u001b[0m\u001b[1;33m\u001b[0m\u001b[0m\n\u001b[0;32m      4\u001b[0m        [ 0.49313049,  0.94909878]]) #random\n",
      "\u001b[1;31mNameError\u001b[0m: name 'np' is not defined"
     ]
    }
   ],
   "source": [
    "np.random.rand(3,2)\n",
    "array([[ 0.14022471,  0.96360618],  #random\n",
    "       [ 0.37601032,  0.25528411],  #random\n",
    "       [ 0.49313049,  0.94909878]]) #random"
   ]
  },
  {
   "cell_type": "code",
   "execution_count": 2,
   "metadata": {},
   "outputs": [
    {
     "ename": "SyntaxError",
     "evalue": "invalid syntax (<ipython-input-2-cfac3deb8842>, line 3)",
     "output_type": "error",
     "traceback": [
      "\u001b[1;36m  File \u001b[1;32m\"<ipython-input-2-cfac3deb8842>\"\u001b[1;36m, line \u001b[1;32m3\u001b[0m\n\u001b[1;33m    >>> type(np.random.random_sample())\u001b[0m\n\u001b[1;37m     ^\u001b[0m\n\u001b[1;31mSyntaxError\u001b[0m\u001b[1;31m:\u001b[0m invalid syntax\n"
     ]
    }
   ],
   "source": [
    " np.random.random_sample()\n",
    "0.47108547995356098\n",
    ">>> type(np.random.random_sample())\n",
    "<type 'float'>\n",
    ">>> np.random.random_sample((5,))\n",
    "array([ 0.30220482,  0.86820401,  0.1654503 ,  0.11659149,  0.54323428])"
   ]
  },
  {
   "cell_type": "code",
   "execution_count": 4,
   "metadata": {},
   "outputs": [
    {
     "ename": "SyntaxError",
     "evalue": "invalid syntax (<ipython-input-4-f2c5dbb3198a>, line 1)",
     "output_type": "error",
     "traceback": [
      "\u001b[1;36m  File \u001b[1;32m\"<ipython-input-4-f2c5dbb3198a>\"\u001b[1;36m, line \u001b[1;32m1\u001b[0m\n\u001b[1;33m    Three-by-two array of random numbers from [-5, 0):\u001b[0m\n\u001b[1;37m                     ^\u001b[0m\n\u001b[1;31mSyntaxError\u001b[0m\u001b[1;31m:\u001b[0m invalid syntax\n"
     ]
    }
   ],
   "source": [
    "Three-by-two array of random numbers from [-5, 0):\n",
    ">>>\n",
    ">>> 5 * np.random.random_sample((3, 2)) - 5\n",
    "array([[-3.99149989, -0.52338984],\n",
    "       [-2.99091858, -0.79479508],\n",
    "       [-1.23204345, -1.75224494]])"
   ]
  },
  {
   "cell_type": "code",
   "execution_count": null,
   "metadata": {
    "collapsed": true
   },
   "outputs": [],
   "source": []
  }
 ],
 "metadata": {
  "kernelspec": {
   "display_name": "Python 3",
   "language": "python",
   "name": "python3"
  },
  "language_info": {
   "codemirror_mode": {
    "name": "ipython",
    "version": 3
   },
   "file_extension": ".py",
   "mimetype": "text/x-python",
   "name": "python",
   "nbconvert_exporter": "python",
   "pygments_lexer": "ipython3",
   "version": "3.6.3"
  }
 },
 "nbformat": 4,
 "nbformat_minor": 2
}
