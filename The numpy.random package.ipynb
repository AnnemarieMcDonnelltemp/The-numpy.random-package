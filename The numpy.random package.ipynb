{
 "cells": [
  {
   "cell_type": "markdown",
   "metadata": {},
   "source": [
    "# The numpy.random Package."
   ]
  },
  {
   "cell_type": "markdown",
   "metadata": {},
   "source": [
    "# The History.\n",
    "\n",
    "NumPy was created in 2005, as an open-source software by Travis Oliphant with other contributors. It drew on the previous work of Jim Hugunin amongst others, who created Numeric.\n",
    "Oliphant incorporated and modified features from Numarray into Numeric to create NumPy (numeric Python), which provides routines which allow the manipulation of large arrays and matrices of numeric data.\n",
    "One of these functions is NumPy.random. For the purpose of this assignment NumPy.random will be discussed."
   ]
  },
  {
   "cell_type": "markdown",
   "metadata": {
    "collapsed": true
   },
   "source": [
    "# NumPy.random.\n",
    "\n",
    "NumPy has a built-in pseudorandom number generator within a sub module random. It uses the algorythm, Mersenne Twister, which generates Pseudorandom nubers.Random number generating (RNG) is a string of numbers drawn from a probability distribution, random numbers between 0 and 1. they include the 0 however do not include the whole integer 1.The numbers are actually pseudorandom as they depend on the input numbers."
   ]
  },
  {
   "cell_type": "markdown",
   "metadata": {},
   "source": [
    "# Installation.\n",
    "Once you have installed Python onto your computer, you should be able to import numpy easily enough.Then use the import command of import numpy as np, this command is used as to write the full command each time is time consuming.\n"
   ]
  },
  {
   "cell_type": "code",
   "execution_count": 11,
   "metadata": {
    "collapsed": true
   },
   "outputs": [],
   "source": [
    "#lets start by importing NumPy.\n",
    "import numpy as np"
   ]
  },
  {
   "cell_type": "markdown",
   "metadata": {},
   "source": [
    "The different commponents of NumPy.random can be located at the following link:\n",
    "https://docs.scipy.org/doc/numpy/reference/routines.random.html\n",
    "and for the purpose of this assignment a selection of the features will be explained."
   ]
  },
  {
   "cell_type": "markdown",
   "metadata": {},
   "source": [
    "# numpy.random.rand.\n",
    "\n",
    "numpy.random.rand(d0, d1, ..., dn)\n",
    " Random values in a given shape.\n",
    " Create an array of the given shape and populate it with random samples from a uniform distribution over [0, 1).\n",
    "\n",
    "## Parameters:\n",
    "d0, d1, …, dn : int, optional\n",
    "The dimensions of the returned array, should all be positive. If no argument is given a single Python float is returned.\n",
    "Returns:\n",
    "out : ndarray, shape (d0, d1, ..., dn)\n",
    "Random values."
   ]
  },
  {
   "cell_type": "code",
   "execution_count": 6,
   "metadata": {},
   "outputs": [
    {
     "data": {
      "text/plain": [
       "array([[ 0.64946761,  0.45042761,  0.84640886,  0.20348865],\n",
       "       [ 0.39562328,  0.06582035,  0.19649694,  0.95651737],\n",
       "       [ 0.78084341,  0.97450906,  0.7888906 ,  0.99613562]])"
      ]
     },
     "execution_count": 6,
     "metadata": {},
     "output_type": "execute_result"
    }
   ],
   "source": [
    "import numpy as np #import numpy as np to begin the programme.\n",
    "\n",
    "np.random.rand(3,4) #an array is delivered, 3 rows consisting of four random numbers between 0 and up to but not including 1.\n"
   ]
  },
  {
   "cell_type": "code",
   "execution_count": 8,
   "metadata": {
    "collapsed": true
   },
   "outputs": [],
   "source": [
    "import matplotlib.pyplot as plt #to be able to vie in pictural form."
   ]
  },
  {
   "cell_type": "code",
   "execution_count": 12,
   "metadata": {},
   "outputs": [
    {
     "data": {
      "image/png": "[encoded data removed]",
      "text/plain": [
       "<matplotlib.figure.Figure at 0x21ce10288d0>"
      ]
     },
     "metadata": {},
     "output_type": "display_data"
    }
   ],
   "source": [
    "#to plot in pictorial form \n",
    "x=np.random.rand (3,4)\n",
    "plt.hist(x)\n",
    "plt.show()\n",
    "\n"
   ]
  },
  {
   "cell_type": "code",
   "execution_count": 7,
   "metadata": {},
   "outputs": [
    {
     "data": {
      "text/plain": [
       "0.42656021631496077"
      ]
     },
     "execution_count": 7,
     "metadata": {},
     "output_type": "execute_result"
    }
   ],
   "source": [
    "np.random.rand() #if no values are inputted into the brackets, a single float is returned."
   ]
  },
  {
   "cell_type": "code",
   "execution_count": 13,
   "metadata": {},
   "outputs": [
    {
     "data": {
      "image/png": "[encoded data removed]",
      "text/plain": [
       "<matplotlib.figure.Figure at 0x21cddde7470>"
      ]
     },
     "metadata": {},
     "output_type": "display_data"
    }
   ],
   "source": [
    "#to plot in pictorial form \n",
    "x=np.random.rand ()\n",
    "plt.hist(x)\n",
    "plt.show()"
   ]
  },
  {
   "cell_type": "code",
   "execution_count": 32,
   "metadata": {},
   "outputs": [
    {
     "data": {
      "text/plain": [
       "array([ 0.31183316,  0.66591653,  0.87146794,  0.68455074,  0.30725397,\n",
       "        0.73380684,  0.94397757,  0.27273925,  0.58300281,  0.22285532,\n",
       "        0.7937629 ,  0.9262927 ,  0.79965195,  0.26272855,  0.55352487,\n",
       "        0.91988443,  0.66223774,  0.8932706 ,  0.34206147,  0.98130177,\n",
       "        0.71686737,  0.41238216,  0.11946543,  0.61377922,  0.27039167,\n",
       "        0.71119721,  0.93869499,  0.4124558 ,  0.25573192,  0.1831858 ,\n",
       "        0.13496683,  0.77407741,  0.09130431,  0.7833578 ,  0.44604532,\n",
       "        0.92216531,  0.82432563,  0.28175363,  0.85516503,  0.97498786,\n",
       "        0.77243433,  0.08988548,  0.43775061,  0.58524177,  0.48643965,\n",
       "        0.77798797,  0.94918039,  0.55079421,  0.73495286,  0.90892308,\n",
       "        0.9076566 ,  0.90660907,  0.02020501,  0.88423949,  0.81458268,\n",
       "        0.85597344,  0.17123132,  0.06591992,  0.17110229,  0.18135456,\n",
       "        0.18924227,  0.01787012,  0.8011468 ,  0.0403335 ,  0.3519535 ,\n",
       "        0.47079349,  0.57558221,  0.05991899,  0.70874889,  0.7146335 ,\n",
       "        0.6861193 ,  0.5745596 ,  0.77676462,  0.13935397,  0.71231068,\n",
       "        0.25061285,  0.22336299,  0.72005179,  0.67411308,  0.70186254,\n",
       "        0.04562719,  0.80789244,  0.89663717,  0.95258891,  0.84390243,\n",
       "        0.58367617,  0.20501888,  0.72518758,  0.67529982,  0.90029129,\n",
       "        0.87193925,  0.08047947,  0.71621258,  0.08329805,  0.08477763,\n",
       "        0.45445187,  0.55481426,  0.52473907,  0.66306559,  0.90718062])"
      ]
     },
     "execution_count": 32,
     "metadata": {},
     "output_type": "execute_result"
    }
   ],
   "source": [
    "np.random.random (100) #this returs a single random array of 5 numbers between 0 and up to, but not including 1."
   ]
  },
  {
   "cell_type": "code",
   "execution_count": 19,
   "metadata": {
    "collapsed": true
   },
   "outputs": [],
   "source": [
    "import matplotlib.pyplot as plt #to be able to vie in pictural form.\n"
   ]
  },
  {
   "cell_type": "code",
   "execution_count": 33,
   "metadata": {},
   "outputs": [
    {
     "data": {
      "image/png": "[encoded data removed]",
      "text/plain": [
       "<matplotlib.figure.Figure at 0x1b97a341748>"
      ]
     },
     "metadata": {},
     "output_type": "display_data"
    }
   ],
   "source": [
    "#to plot in pictorial form \n",
    "x=np.random.random(100)\n",
    "plt.hist(x)\n",
    "plt.show()"
   ]
  },
  {
   "cell_type": "markdown",
   "metadata": {},
   "source": [
    "# numpy.random.sample\n",
    "numpy.random.sample(size=None)\n",
    "Return random floats in the half-open interval [0.0, 1.0).\n",
    "Results are from the “continuous uniform” distribution over the stated interval. To sample  multiply the output of random_sample by (b-a) and add a:\n",
    "(b - a) * random_sample() + a\n",
    "\n",
    "\n",
    "Parameters:\n",
    "size : int or tuple of ints, optional\n",
    "Output shape. If the given shape is, e.g., (m, n, k), then m * n * k samples are drawn. Default is None, in which case a single value is returned.\n",
    "Returns:\n",
    "out : float or ndarray of floats\n",
    "Array of random floats of shape size (unless size=None, in which case a single float is returned).\n",
    "Examples"
   ]
  },
  {
   "cell_type": "code",
   "execution_count": 15,
   "metadata": {},
   "outputs": [
    {
     "data": {
      "text/plain": [
       "0.931961665558186"
      ]
     },
     "execution_count": 15,
     "metadata": {},
     "output_type": "execute_result"
    }
   ],
   "source": [
    " np.random.random_sample()"
   ]
  },
  {
   "cell_type": "code",
   "execution_count": 17,
   "metadata": {},
   "outputs": [
    {
     "data": {
      "image/png": "[encoded data removed]",
      "text/plain": [
       "<matplotlib.figure.Figure at 0x21ce11354e0>"
      ]
     },
     "metadata": {},
     "output_type": "display_data"
    }
   ],
   "source": [
    "x=np.random.random_sample()\n",
    "plt.hist(x)\n",
    "plt.show()"
   ]
  },
  {
   "cell_type": "code",
   "execution_count": 19,
   "metadata": {},
   "outputs": [
    {
     "data": {
      "text/plain": [
       "array([[-0.13740847, -3.70041939],\n",
       "       [-1.45689067, -2.72320702],\n",
       "       [-1.82776243, -2.27226734]])"
      ]
     },
     "execution_count": 19,
     "metadata": {},
     "output_type": "execute_result"
    }
   ],
   "source": [
    "5 * np.random.random_sample((3, 2)) - 5"
   ]
  },
  {
   "cell_type": "code",
   "execution_count": 21,
   "metadata": {},
   "outputs": [
    {
     "data": {
      "image/png": "[encoded data removed]",
      "text/plain": [
       "<matplotlib.figure.Figure at 0x21ce1b572e8>"
      ]
     },
     "metadata": {},
     "output_type": "display_data"
    }
   ],
   "source": [
    "x=np.random.random_sample((3,2)) -5\n",
    "plt.hist(x)\n",
    "plt.show()"
   ]
  },
  {
   "cell_type": "markdown",
   "metadata": {},
   "source": [
    "# numpy.random.choice¶\n",
    "numpy.random.choice(a, size=None, replace=True, p=None)\n",
    "Generates a random sample from a given 1-D array\n",
    "New in version 1.7.0.\n",
    "\n",
    "\n",
    "Parameters:\n",
    "a : 1-D array-like or int\n",
    "If an ndarray, a random sample is generated from its elements. If an int, the random sample is generated as if a were np.arange(a)\n",
    "size : int or tuple of ints, optional\n",
    "Output shape. If the given shape is, e.g., (m, n, k), then m * n * k samples are drawn. Default is None, in which case a single value is returned.\n",
    "replace : boolean, optional\n",
    "Whether the sample is with or without replacement\n",
    "p : 1-D array-like, optional\n",
    "The probabilities associated with each entry in a. If not given the sample assumes a uniform distribution over all entries in a.\n",
    "Returns:\n",
    "samples : single item or ndarray\n",
    "The generated random samples\n",
    "Raises:\n",
    "ValueError\n",
    "If a is an int and less than zero, if a or p are not 1-dimensional, if a is an array-like of size 0, if p is not a vector of probabilities, if a and p have different lengths, or if replace=False and the sample size is greater than the population size"
   ]
  },
  {
   "cell_type": "markdown",
   "metadata": {},
   "source": [
    "Examples\n",
    "Generate a uniform random sample from np.arange(5) of size 3:"
   ]
  },
  {
   "cell_type": "code",
   "execution_count": 25,
   "metadata": {},
   "outputs": [
    {
     "data": {
      "text/plain": [
       "array([3, 9, 6, 4])"
      ]
     },
     "execution_count": 25,
     "metadata": {},
     "output_type": "execute_result"
    }
   ],
   "source": [
    "np.random.choice(10, 4)#This is equivalent to np.random.randint(0,5,3)"
   ]
  },
  {
   "cell_type": "code",
   "execution_count": 29,
   "metadata": {},
   "outputs": [
    {
     "data": {
      "text/plain": [
       "array([3, 2, 3], dtype=int64)"
      ]
     },
     "execution_count": 29,
     "metadata": {},
     "output_type": "execute_result"
    }
   ],
   "source": [
    "#Generate a non-uniform random sample from np.arange(5) of size 3:\n",
    "np.random.choice(5, 3, p=[0.1, 0, 0.3, 0.6, 0])\n"
   ]
  },
  {
   "cell_type": "code",
   "execution_count": 30,
   "metadata": {},
   "outputs": [
    {
     "data": {
      "text/plain": [
       "array([1, 2, 4])"
      ]
     },
     "execution_count": 30,
     "metadata": {},
     "output_type": "execute_result"
    }
   ],
   "source": [
    "#Generate a uniform random sample from np.arange(5) of size 3 without replacement:\n",
    "np.random.choice(5, 3, replace=False) #This is equivalent to np.random.permutation(np.arange(5))[:3]"
   ]
  },
  {
   "cell_type": "code",
   "execution_count": 31,
   "metadata": {},
   "outputs": [
    {
     "data": {
      "text/plain": [
       "array([3, 2, 0])"
      ]
     },
     "execution_count": 31,
     "metadata": {},
     "output_type": "execute_result"
    }
   ],
   "source": [
    "#Generate a non-uniform random sample from np.arange(5) of size 3 without replacement:\n",
    "np.random.choice(5, 3, replace=False, p=[0.1, 0, 0.3, 0.6, 0])"
   ]
  },
  {
   "cell_type": "code",
   "execution_count": 32,
   "metadata": {},
   "outputs": [
    {
     "data": {
      "text/plain": [
       "array(['oap', 'child', 'oap', 'oap', 'teenager'],\n",
       "      dtype='<U8')"
      ]
     },
     "execution_count": 32,
     "metadata": {},
     "output_type": "execute_result"
    }
   ],
   "source": [
    "#Any of the above can be repeated with an arbitrary array-like instead of just integers. For instance:\n",
    "aa_milne_arr = ['oap', 'teenager', 'adult', 'child']\n",
    "np.random.choice(aa_milne_arr, 5, p=[0.5, 0.1, 0.1, 0.3])\n"
   ]
  },
  {
   "cell_type": "code",
   "execution_count": 33,
   "metadata": {},
   "outputs": [
    {
     "data": {
      "text/plain": [
       "array(['oap', 'teenager', 'teenager', 'child', 'child'],\n",
       "      dtype='<U8')"
      ]
     },
     "execution_count": 33,
     "metadata": {},
     "output_type": "execute_result"
    }
   ],
   "source": [
    "aa_milne_arr = ['oap', 'teenager', 'adult', 'child']\n",
    "np.random.choice(aa_milne_arr, 5, p=[0.5, 0.1, 0.1, 0.3])"
   ]
  },
  {
   "cell_type": "markdown",
   "metadata": {},
   "source": [
    "# numpy.random.random_integers(low, high=None, size=None)\n",
    "Random integers of type np.int between low and high, inclusive.\n",
    "Return random integers of type np.int from the “discrete uniform” distribution in the closed interval [low, high]. If high is None (the default), then results are from [1, low]. The np.int type translates to the C long type used by Python 2 for “short” integers and its precision is platform dependent.\n",
    "This function has been deprecated. Use randint instead.\n",
    "Deprecated since version 1.11.0.\n",
    "\n",
    "\n",
    "Parameters:\n",
    "low : int\n",
    "Lowest (signed) integer to be drawn from the distribution (unless high=None, in which case this parameter is the highest such integer).\n",
    "high : int, optional\n",
    "If provided, the largest (signed) integer to be drawn from the distribution (see above for behavior if high=None).\n",
    "size : int or tuple of ints, optional\n",
    "Output shape. If the given shape is, e.g., (m, n, k), then m * n * k samples are drawn. Default is None, in which case a single value is returned.\n",
    "Returns:\n",
    "out : int or ndarray of ints\n",
    "size-shaped array of random integers from the appropriate distribution, or a single such random int if size not provided.\n",
    "Notes\n",
    "To sample from N evenly spaced floating-point numbers between a and b, use:\n",
    "a + (b - a) * (np.random.random_integers(N) - 1) / (N - 1.)"
   ]
  },
  {
   "cell_type": "code",
   "execution_count": 36,
   "metadata": {},
   "outputs": [
    {
     "name": "stderr",
     "output_type": "stream",
     "text": [
      "C:\\ProgramData\\Anaconda3\\lib\\site-packages\\ipykernel_launcher.py:1: DeprecationWarning: This function is deprecated. Please call randint(1, 5 + 1) instead\n",
      "  \"\"\"Entry point for launching an IPython kernel.\n",
      "C:\\ProgramData\\Anaconda3\\lib\\site-packages\\ipykernel_launcher.py:3: DeprecationWarning: This function is deprecated. Please call randint(1, 5 + 1) instead\n",
      "  This is separate from the ipykernel package so we can avoid doing imports until\n",
      "C:\\ProgramData\\Anaconda3\\lib\\site-packages\\ipykernel_launcher.py:5: DeprecationWarning: This function is deprecated. Please call randint(1, 5 + 1) instead\n",
      "  \"\"\"\n"
     ]
    },
    {
     "data": {
      "text/plain": [
       "array([[1, 3],\n",
       "       [4, 5],\n",
       "       [1, 2]])"
      ]
     },
     "execution_count": 36,
     "metadata": {},
     "output_type": "execute_result"
    }
   ],
   "source": [
    "np.random.random_integers(5)\n",
    "4\n",
    "type(np.random.random_integers(5))\n",
    "\n",
    "np.random.random_integers(5, size=(3,2))\n"
   ]
  },
  {
   "cell_type": "code",
   "execution_count": 37,
   "metadata": {},
   "outputs": [
    {
     "name": "stderr",
     "output_type": "stream",
     "text": [
      "C:\\ProgramData\\Anaconda3\\lib\\site-packages\\ipykernel_launcher.py:2: DeprecationWarning: This function is deprecated. Please call randint(1, 5 + 1) instead\n",
      "  \n"
     ]
    },
    {
     "data": {
      "text/plain": [
       "array([ 0.625,  1.25 ,  2.5  ,  0.   ,  1.25 ])"
      ]
     },
     "execution_count": 37,
     "metadata": {},
     "output_type": "execute_result"
    }
   ],
   "source": [
    "#Choose five random numbers from the set of five evenly-spaced numbers between 0 and 2.5, inclusive (i.e., from the set ):\n",
    "2.5 * (np.random.random_integers(5, size=(5,)) - 1) / 4.\n"
   ]
  },
  {
   "cell_type": "code",
   "execution_count": 40,
   "metadata": {},
   "outputs": [
    {
     "name": "stderr",
     "output_type": "stream",
     "text": [
      "C:\\ProgramData\\Anaconda3\\lib\\site-packages\\ipykernel_launcher.py:1: DeprecationWarning: This function is deprecated. Please call randint(1, 6 + 1) instead\n",
      "  \"\"\"Entry point for launching an IPython kernel.\n",
      "C:\\ProgramData\\Anaconda3\\lib\\site-packages\\ipykernel_launcher.py:2: DeprecationWarning: This function is deprecated. Please call randint(1, 6 + 1) instead\n",
      "  \n"
     ]
    },
    {
     "data": {
      "image/png": "[encoded data removed]",
      "text/plain": [
       "<matplotlib.figure.Figure at 0x21ce170e6a0>"
      ]
     },
     "metadata": {},
     "output_type": "display_data"
    }
   ],
   "source": [
    "d1=np.random.random_integers(1,6,1000)\n",
    "d2=np.random.random_integers(1,6,1000)\n",
    "dsums=d1+d2\n",
    "\n",
    "count,bins,ignored=plt.hist(dsums,11,density=True)\n",
    "plt.show()"
   ]
  },
  {
   "cell_type": "markdown",
   "metadata": {
    "collapsed": true
   },
   "source": [
    "# Permutations.\n",
    "Permutation and Combination in Python\n",
    "Python provide direct methods to find permutations and combinations of a sequence. These methods are present in itertools package.\n",
    "Permutation \n",
    "\n",
    "First import itertools package to implement permutations method in python. This method takes a list as an input and return an object list of tuples that contain all permutation in a list form.\n",
    "# A Python program to print all  \n",
    "# permutations using library function \n",
    "from itertools import permutations \n",
    "  \n",
    "# Get all permutations of [1, 2, 3] \n",
    "perm = permutations([1, 2, 3]) \n",
    "  \n",
    "# Print the obtained permutations \n",
    "for i in list(perm): \n",
    "    print i \n",
    "Copy CodeRun on IDE\n",
    "Output \n",
    "(1, 2, 3)\n",
    "(1, 3, 2)\n",
    "(2, 1, 3)\n",
    "(2, 3, 1)\n",
    "(3, 1, 2)\n",
    "(3, 2, 1)\n",
    "It generates n! permutations if length of input sequence is n. \n",
    "If want want to get permutations of length L then implement it in this way.\n",
    "\n",
    "\n",
    "# A Python program to print all  \n",
    "# permutations of given length \n",
    "from itertools import permutations \n",
    "  \n",
    "# Get all permutations of length 2 \n",
    "# and length 2 \n",
    "perm = permutations([1, 2, 3], 2) \n",
    "  \n",
    "# Print the obtained permutations \n",
    "for i in list(perm): \n",
    "    print i \n",
    "Copy CodeRun on IDE\n"
   ]
  },
  {
   "cell_type": "markdown",
   "metadata": {},
   "source": [
    "numpy.random.permutation(x)\n",
    "Randomly permute a sequence, or return a permuted range.\n",
    "If x is a multi-dimensional array, it is only shuffled along its first index.\n",
    "\n",
    "\n",
    "Parameters:\n",
    "x : int or array_like\n",
    "If x is an integer, randomly permute np.arange(x). If x is an array, make a copy and shuffle the elements randomly.\n",
    "Returns:\n",
    "out : ndarray\n",
    "Permuted sequence or array range."
   ]
  },
  {
   "cell_type": "code",
   "execution_count": 6,
   "metadata": {
    "collapsed": true
   },
   "outputs": [],
   "source": [
    "import numpy as np"
   ]
  },
  {
   "cell_type": "code",
   "execution_count": 7,
   "metadata": {},
   "outputs": [
    {
     "data": {
      "text/plain": [
       "array([3, 5, 9, 2, 0, 7, 4, 1, 6, 8])"
      ]
     },
     "execution_count": 7,
     "metadata": {},
     "output_type": "execute_result"
    }
   ],
   "source": [
    "np.random.permutation(10)\n"
   ]
  },
  {
   "cell_type": "code",
   "execution_count": 8,
   "metadata": {},
   "outputs": [
    {
     "data": {
      "text/plain": [
       "array([ 4,  1,  9, 12, 15])"
      ]
     },
     "execution_count": 8,
     "metadata": {},
     "output_type": "execute_result"
    }
   ],
   "source": [
    "np.random.permutation([1, 4, 9, 12, 15])\n"
   ]
  },
  {
   "cell_type": "code",
   "execution_count": 9,
   "metadata": {},
   "outputs": [
    {
     "data": {
      "text/plain": [
       "array([[3, 4, 5],\n",
       "       [0, 1, 2],\n",
       "       [6, 7, 8]])"
      ]
     },
     "execution_count": 9,
     "metadata": {},
     "output_type": "execute_result"
    }
   ],
   "source": [
    "arr = np.arange(9).reshape((3, 3))\n",
    ">>> np.random.permutation(arr)\n"
   ]
  },
  {
   "cell_type": "markdown",
   "metadata": {},
   "source": [
    "numpy.random.shuffle(x)\n",
    "Modify a sequence in-place by shuffling its contents.\n",
    "This function only shuffles the array along the first axis of a multi-dimensional array. The order of sub-arrays is changed but their contents remains the same.\n",
    "\n",
    "\n",
    "Parameters:\n",
    "x : array_like\n",
    "The array or list to be shuffled.\n",
    "Returns:\n",
    "None"
   ]
  },
  {
   "cell_type": "code",
   "execution_count": 12,
   "metadata": {
    "collapsed": true
   },
   "outputs": [],
   "source": [
    "arr = np.arange(10)\n",
    "np.random.shuffle(arr)\n"
   ]
  },
  {
   "cell_type": "code",
   "execution_count": 13,
   "metadata": {
    "collapsed": true
   },
   "outputs": [],
   "source": [
    "#Multi-dimensional arrays are only shuffled along the first axis:\n",
    "arr = np.arange(9).reshape((3, 3))\n",
    "np.random.shuffle(arr)\n"
   ]
  },
  {
   "cell_type": "markdown",
   "metadata": {},
   "source": [
    "# Distributers\n",
    "numpy.random.binomial(n, p, size=None)\n",
    "Draw samples from a binomial distribution.\n",
    "Samples are drawn from a binomial distribution with specified parameters, n trials and p probability of success where n an integer >= 0 and p is in the interval [0,1]. (n may be input as a float, but it is truncated to an integer in use)\n",
    "\n",
    "\n",
    "Parameters:\n",
    "n : int or array_like of ints\n",
    "Parameter of the distribution, >= 0. Floats are also accepted, but they will be truncated to integers.\n",
    "p : float or array_like of floats\n",
    "Parameter of the distribution, >= 0 and <=1.\n",
    "size : int or tuple of ints, optional\n",
    "Output shape. If the given shape is, e.g., (m, n, k), then m * n * k samples are drawn. If size is None (default), a single value is returned if n and p are both scalars. Otherwise, np.broadcast(n, p).size samples are drawn.\n",
    "Returns:\n",
    "out : ndarray or scalar\n",
    "Drawn samples from the parameterized binomial distribution, where each sample is equal to the number of successes over the n trials."
   ]
  },
  {
   "cell_type": "code",
   "execution_count": 16,
   "metadata": {
    "collapsed": true
   },
   "outputs": [],
   "source": [
    "n, p = 10, .5  # number of trials, probability of each trial\n",
    "s = np.random.binomial(n, p, 1000)\n",
    "# result of flipping a coin 10 times, tested 1000 times.\n"
   ]
  },
  {
   "cell_type": "code",
   "execution_count": 15,
   "metadata": {},
   "outputs": [
    {
     "data": {
      "text/plain": [
       "0.39169999999999999"
      ]
     },
     "execution_count": 15,
     "metadata": {},
     "output_type": "execute_result"
    }
   ],
   "source": [
    "#A real world example. A company drills 9 wild-cat oil exploration wells, each with an estimated probability of success of 0.1. All nine wells fail. What is the probability of that happening?\n",
    "#Let’s do 20,000 trials of the model, and count the number that generate zero positive results.\n",
    "sum(np.random.binomial(9, 0.1, 20000) == 0)/20000.\n",
    "# answer = 0.38885, or 38%."
   ]
  },
  {
   "cell_type": "markdown",
   "metadata": {},
   "source": [
    "numpy.random.geometric(p, size=None)\n",
    "Draw samples from the geometric distribution.\n",
    "Bernoulli trials are experiments with one of two outcomes: success or failure (an example of such an experiment is flipping a coin). The geometric distribution models the number of trials that must be run in order to achieve success. It is therefore supported on the positive integers, k = 1, 2, ....\n",
    "The probability mass function of the geometric distribution is\n",
    "\n",
    "where p is the probability of success of an individual trial.\n",
    "\n",
    "\n",
    "Parameters:\n",
    "p : float or array_like of floats\n",
    "The probability of success of an individual trial.\n",
    "size : int or tuple of ints, optional\n",
    "Output shape. If the given shape is, e.g., (m, n, k), then m * n * k samples are drawn. If size is None (default), a single value is returned if p is a scalar. Otherwise, np.array(p).size samples are drawn.\n",
    "Returns:\n",
    "out : ndarray or scalar\n",
    "Drawn samples from the parameterized geometric distribution."
   ]
  },
  {
   "cell_type": "code",
   "execution_count": 17,
   "metadata": {},
   "outputs": [
    {
     "ename": "SyntaxError",
     "evalue": "invalid syntax (<ipython-input-17-88cba29ac204>, line 3)",
     "output_type": "error",
     "traceback": [
      "\u001b[1;36m  File \u001b[1;32m\"<ipython-input-17-88cba29ac204>\"\u001b[1;36m, line \u001b[1;32m3\u001b[0m\n\u001b[1;33m    >>>\u001b[0m\n\u001b[1;37m     ^\u001b[0m\n\u001b[1;31mSyntaxError\u001b[0m\u001b[1;31m:\u001b[0m invalid syntax\n"
     ]
    }
   ],
   "source": [
    "#Examples\n",
    "#Draw ten thousand values from the geometric distribution, with the probability of an individual success equal to 0.35:\n",
    ">>>\n",
    ">>> z = np.random.geometric(p=0.35, size=10000)\n",
    "#How many trials succeeded after a single run?\n",
    ">>>\n",
    ">>> (z == 1).sum() / 10000.\n"
   ]
  },
  {
   "cell_type": "markdown",
   "metadata": {},
   "source": [
    "numpy.random.normal(loc=0.0, scale=1.0, size=None)\n",
    "Draw random samples from a normal (Gaussian) distribution.\n",
    "The probability density function of the normal distribution, first derived by De Moivre and 200 years later by both Gauss and Laplace independently [2], is often called the bell curve because of its characteristic shape (see the example below).\n",
    "The normal distributions occurs often in nature. For example, it describes the commonly occurring distribution of samples influenced by a large number of tiny, random disturbances, each with its own unique distribution [2].\n",
    "\n",
    "\n",
    "Parameters:\n",
    "loc : float or array_like of floats\n",
    "Mean (“centre”) of the distribution.\n",
    "scale : float or array_like of floats\n",
    "Standard deviation (spread or “width”) of the distribution.\n",
    "size : int or tuple of ints, optional\n",
    "Output shape. If the given shape is, e.g., (m, n, k), then m * n * k samples are drawn. If size is None (default), a single value is returned if loc and scale are both scalars. Otherwise, np.broadcast(loc, scale).size samples are drawn.\n",
    "Returns:\n",
    "out : ndarray or scalar\n",
    "Drawn samples from the parameterized normal distribution."
   ]
  },
  {
   "cell_type": "code",
   "execution_count": 20,
   "metadata": {},
   "outputs": [
    {
     "data": {
      "image/png": "[encoded data removed]",
      "text/plain": [
       "<matplotlib.figure.Figure at 0x1456aea0240>"
      ]
     },
     "metadata": {},
     "output_type": "display_data"
    }
   ],
   "source": [
    "#Examples\n",
    "#Draw samples from the distribution:\n",
    "\n",
    "mu, sigma = 0, 0.1 # mean and standard deviation\n",
    "s = np.random.normal(mu, sigma, 1000)\n",
    "#Verify the mean and the variance:\n",
    "\n",
    "abs(mu - np.mean(s)) < 0.01\n",
    "True\n",
    "\n",
    "abs(sigma - np.std(s, ddof=1)) < 0.01\n",
    "True\n",
    "#Display the histogram of the samples, along with the probability density function:\n",
    "\n",
    "import matplotlib.pyplot as plt\n",
    "count, bins, ignored = plt.hist(s, 30, density=True)\n",
    "plt.plot(bins, 1/(sigma * np.sqrt(2 * np.pi)) *\n",
    "              np.exp( - (bins - mu)**2 / (2 * sigma**2) ),\n",
    "         linewidth=2, color='r')\n",
    "plt.show()"
   ]
  },
  {
   "cell_type": "markdown",
   "metadata": {},
   "source": [
    "numpy.random.standard_exponential(size=None)\n",
    "Draw samples from the standard exponential distribution.\n",
    "standard_exponential is identical to the exponential distribution with a scale parameter of 1.\n",
    "\n",
    "\n",
    "Parameters:\n",
    "size : int or tuple of ints, optional\n",
    "Output shape. If the given shape is, e.g., (m, n, k), then m * n * k samples are drawn. Default is None, in which case a single value is returned.\n",
    "Returns:\n",
    "out : float or ndarray\n",
    "Drawn samples."
   ]
  },
  {
   "cell_type": "code",
   "execution_count": 22,
   "metadata": {
    "collapsed": true
   },
   "outputs": [],
   "source": [
    "#Output a 3x8000 array:\n",
    "n = np.random.standard_exponential((3, 8000))"
   ]
  },
  {
   "cell_type": "markdown",
   "metadata": {},
   "source": [
    "numpy.random.uniform(low=0.0, high=1.0, size=None)\n",
    "Draw samples from a uniform distribution.\n",
    "Samples are uniformly distributed over the half-open interval [low, high) (includes low, but excludes high). In other words, any value within the given interval is equally likely to be drawn by uniform.\n",
    "\n",
    "\n",
    "Parameters:\n",
    "low : float or array_like of floats, optional\n",
    "Lower boundary of the output interval. All values generated will be greater than or equal to low. The default value is 0.\n",
    "high : float or array_like of floats\n",
    "Upper boundary of the output interval. All values generated will be less than high. The default value is 1.0.\n",
    "size : int or tuple of ints, optional\n",
    "Output shape. If the given shape is, e.g., (m, n, k), then m * n * k samples are drawn. If size is None (default), a single value is returned if low and high are both scalars. Otherwise, np.broadcast(low, high).size samples are drawn.\n",
    "Returns:\n",
    "out : ndarray or scalar\n",
    "Drawn samples from the parameterized uniform distribution."
   ]
  },
  {
   "cell_type": "code",
   "execution_count": 23,
   "metadata": {},
   "outputs": [
    {
     "data": {
      "image/png": "[encoded data removed]",
      "text/plain": [
       "<matplotlib.figure.Figure at 0x1456aeaa630>"
      ]
     },
     "metadata": {},
     "output_type": "display_data"
    }
   ],
   "source": [
    "#Examples\n",
    "#Draw samples from the distribution:\n",
    "s = np.random.uniform(-1,0,1000)\n",
    "#All values are within the given interval:\n",
    "np.all(s >= -1)\n",
    "True\n",
    "np.all(s < 0)\n",
    "True\n",
    "#Display the histogram of the samples, along with the probability density function:\n",
    "import matplotlib.pyplot as plt\n",
    "count, bins, ignored = plt.hist(s, 15, density=True)\n",
    "plt.plot(bins, np.ones_like(bins), linewidth=2, color='r')\n",
    "plt.show()"
   ]
  },
  {
   "cell_type": "markdown",
   "metadata": {},
   "source": [
    "# Seed.¶\n",
    "np.random.seed(0) makes the random numbers predictable\n",
    "numpy.random.seed(0) ; numpy.random.rand(4) array([ 0.55, 0.72, 0.6 , 0.54]) numpy.random.seed(0) ; numpy.random.rand(4) array([ 0.55, 0.72, 0.6 , 0.54]) With the seed reset (every time), the same set of numbers will appear every time. If the random seed is not reset, different numbers appear with every invocation: numpy.random.rand(4) array([ 0.42, 0.65, 0.44, 0.89]) numpy.random.rand(4) array([ 0.96, 0.38, 0.79, 0.53]) (pseudo-)random numbers work by starting with a number (the seed), multiplying it by a large number, then taking modulo of that product. The resulting number is then used as the seed to generate the next \"random\" number. When you set the seed (every time), it does the same thing every time, giving you the same numbers. If you want seemingly random numbers, do not set the seed. If you have code that uses random numbers that you want to debug, however, it can be very helpful to set the seed before each run so that the code does the same thing every time you run it. To get the most random numbers for each run, call numpy.random.seed(). This will cause numpy to set the seed to a random number obtained from /dev/urandom or its Windows analog or, if neither of those is available, it will use the clock."
   ]
  },
  {
   "cell_type": "markdown",
   "metadata": {},
   "source": [
    "\n",
    "A random seed specifies the start point when a computer generates a random number sequence.\n",
    "For example, let’s say you wanted to generate a random number in Excel (Note: Excel sets a limit of 9999 for the seed). If you enter a number into the Random Seed box during the process, you’ll be able to use the same set of random numbers again. If you typed “77” into the box, and typed “77” the next time you run the random number generator, Excel will display that same set of random numbers. If you type “99”, you’ll get an entirely different set of numbers. But if you revert back to a seed of 77, then you’ll get the same set of random numbers you started with.\n",
    "For example, “take a number x, add 900 +x, then subtract 52.” In order for the process to start, you have to specify a starting number, x (the seed). Let’s take the starting number 77:\n",
    "Add 900 + 77 = 977 Subtract 52 = 925 Following the same algorithm, the second “random” number would be:\n",
    "900 + 925 = 1825 Subtract 52 = 1773 This simple example follows a pattern, but the algorithms behind computer number generation are much more complicated"
   ]
  },
  {
   "cell_type": "code",
   "execution_count": null,
   "metadata": {
    "collapsed": true
   },
   "outputs": [],
   "source": []
  }
 ],
 "metadata": {
  "kernelspec": {
   "display_name": "Python 3",
   "language": "python",
   "name": "python3"
  },
  "language_info": {
   "codemirror_mode": {
    "name": "ipython",
    "version": 3
   },
   "file_extension": ".py",
   "mimetype": "text/x-python",
   "name": "python",
   "nbconvert_exporter": "python",
   "pygments_lexer": "ipython3",
   "version": "3.6.3"
  }
 },
 "nbformat": 4,
 "nbformat_minor": 2
}
