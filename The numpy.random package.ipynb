{
 "cells": [
  {
   "cell_type": "markdown",
   "metadata": {},
   "source": [
    "# The numpy.random Package."
   ]
  },
  {
   "cell_type": "markdown",
   "metadata": {},
   "source": [
    "# The History.\n",
    "\n",
    "NumPy was created in 2005, as an open-source software by Travis Oliphant with other contributors. It drew on the previous work of Jim Hugunin amongst others, who created Numeric.\n",
    "Oliphant incorporated and modified features from Numarray into Numeric to create NumPy, a Python programming language which supports multi-dimensional arrays and matrices and a collection of mathematical functions to operate the arrays.\n",
    "One of these functions is NumPy.random. For the purpose of this assignment NumPy.random will be discussed."
   ]
  },
  {
   "cell_type": "markdown",
   "metadata": {
    "collapsed": true
   },
   "source": [
    "# NumPy.random.\n",
    "\n",
    "NumPy.random function is to generate random numbers. Using the algorythm, Mersenne Twister, which generates Pseudorandom nubers.Random number generating (RNG) is a string of numbers drawn from a probability distribution, random numbers between 0 and 1. they include the 0 however do not include the whole integer 1.The numbers are actually pseudorandom as they depend on the input numbers."
   ]
  },
  {
   "cell_type": "code",
   "execution_count": 3,
   "metadata": {
    "collapsed": true
   },
   "outputs": [],
   "source": [
    "#lets start by importing NumPy.\n",
    "import numpy as np"
   ]
  },
  {
   "cell_type": "code",
   "execution_count": 5,
   "metadata": {},
   "outputs": [
    {
     "data": {
      "text/plain": [
       "array([ 0.64614199,  0.43886134,  0.94338486,  0.68235036,  0.10876978])"
      ]
     },
     "execution_count": 5,
     "metadata": {},
     "output_type": "execute_result"
    }
   ],
   "source": [
    "np.random.random (size=5) #this returs a single random array of 5 numbers between 0 and up to, but not including 1."
   ]
  },
  {
   "cell_type": "code",
   "execution_count": 7,
   "metadata": {},
   "outputs": [],
   "source": [
    "import matplotlib.pyplot as plt\n"
   ]
  },
  {
   "cell_type": "code",
   "execution_count": null,
   "metadata": {
    "collapsed": true
   },
   "outputs": [],
   "source": []
  }
 ],
 "metadata": {
  "kernelspec": {
   "display_name": "Python 3",
   "language": "python",
   "name": "python3"
  },
  "language_info": {
   "codemirror_mode": {
    "name": "ipython",
    "version": 3
   },
   "file_extension": ".py",
   "mimetype": "text/x-python",
   "name": "python",
   "nbconvert_exporter": "python",
   "pygments_lexer": "ipython3",
   "version": "3.6.3"
  }
 },
 "nbformat": 4,
 "nbformat_minor": 2
}
